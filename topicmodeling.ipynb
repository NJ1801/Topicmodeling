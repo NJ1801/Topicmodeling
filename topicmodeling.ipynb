{
 "cells": [
  {
   "cell_type": "code",
   "execution_count": 1,
   "metadata": {},
   "outputs": [],
   "source": [
    "# ! pip install gensim\n",
    "# ! pip install pyLDAvis"
   ]
  },
  {
   "cell_type": "code",
   "execution_count": 2,
   "metadata": {},
   "outputs": [
    {
     "name": "stderr",
     "output_type": "stream",
     "text": [
      "[nltk_data] Downloading package stopwords to C:\\Users\\MORNING\n",
      "[nltk_data]     SHIFT\\AppData\\Roaming\\nltk_data...\n",
      "[nltk_data]   Package stopwords is already up-to-date!\n"
     ]
    },
    {
     "data": {
      "text/plain": [
       "True"
      ]
     },
     "execution_count": 2,
     "metadata": {},
     "output_type": "execute_result"
    }
   ],
   "source": [
    "import nltk\n",
    "nltk.download('stopwords')"
   ]
  },
  {
   "cell_type": "code",
   "execution_count": 3,
   "metadata": {},
   "outputs": [],
   "source": [
    "import numpy as np\n",
    "import json\n",
    "import glob\n",
    "\n",
    "# Gensim\n",
    "import gensim\n",
    "import gensim.corpora as corpora\n",
    "from gensim.utils import simple_preprocess\n",
    "from gensim.models import CoherenceModel\n",
    "\n",
    "# Spacy\n",
    "import spacy\n",
    "from nltk.corpus import stopwords\n",
    "\n",
    "# Visualization\n",
    "import pyLDAvis\n",
    "import pyLDAvis.gensim\n",
    "\n",
    "import warnings\n",
    "warnings.filterwarnings(\"ignore\", category=DeprecationWarning)"
   ]
  },
  {
   "cell_type": "code",
   "execution_count": 4,
   "metadata": {},
   "outputs": [],
   "source": [
    "def load_data(file):\n",
    "    with open(file, \"r\", encoding=\"utf-8\") as f:\n",
    "        data = f.read().splitlines()\n",
    "    return data\n"
   ]
  },
  {
   "cell_type": "code",
   "execution_count": 5,
   "metadata": {},
   "outputs": [
    {
     "name": "stdout",
     "output_type": "stream",
     "text": [
      "['i', 'me', 'my', 'myself', 'we', 'our', 'ours', 'ourselves', 'you', \"you're\", \"you've\", \"you'll\", \"you'd\", 'your', 'yours', 'yourself', 'yourselves', 'he', 'him', 'his', 'himself', 'she', \"she's\", 'her', 'hers', 'herself', 'it', \"it's\", 'its', 'itself', 'they', 'them', 'their', 'theirs', 'themselves', 'what', 'which', 'who', 'whom', 'this', 'that', \"that'll\", 'these', 'those', 'am', 'is', 'are', 'was', 'were', 'be', 'been', 'being', 'have', 'has', 'had', 'having', 'do', 'does', 'did', 'doing', 'a', 'an', 'the', 'and', 'but', 'if', 'or', 'because', 'as', 'until', 'while', 'of', 'at', 'by', 'for', 'with', 'about', 'against', 'between', 'into', 'through', 'during', 'before', 'after', 'above', 'below', 'to', 'from', 'up', 'down', 'in', 'out', 'on', 'off', 'over', 'under', 'again', 'further', 'then', 'once', 'here', 'there', 'when', 'where', 'why', 'how', 'all', 'any', 'both', 'each', 'few', 'more', 'most', 'other', 'some', 'such', 'no', 'nor', 'not', 'only', 'own', 'same', 'so', 'than', 'too', 'very', 's', 't', 'can', 'will', 'just', 'don', \"don't\", 'should', \"should've\", 'now', 'd', 'll', 'm', 'o', 're', 've', 'y', 'ain', 'aren', \"aren't\", 'couldn', \"couldn't\", 'didn', \"didn't\", 'doesn', \"doesn't\", 'hadn', \"hadn't\", 'hasn', \"hasn't\", 'haven', \"haven't\", 'isn', \"isn't\", 'ma', 'mightn', \"mightn't\", 'mustn', \"mustn't\", 'needn', \"needn't\", 'shan', \"shan't\", 'shouldn', \"shouldn't\", 'wasn', \"wasn't\", 'weren', \"weren't\", 'won', \"won't\", 'wouldn', \"wouldn't\"]\n"
     ]
    }
   ],
   "source": [
    "stopwords = stopwords.words(\"english\")\n",
    "print(stopwords)"
   ]
  },
  {
   "cell_type": "code",
   "execution_count": 6,
   "metadata": {},
   "outputs": [
    {
     "name": "stdout",
     "output_type": "stream",
     "text": [
      "['Machine learning is a subfield of artificial intelligence, which is broadly defined as the capability of a machine to imitate intelligent human behavior. Artificial intelligence systems are used to perform complex tasks in a way that is similar to how humans solve problems.', '', 'A carpenter is responsible for working with wood to build and repair structures and other items and they also may have to select and source appropriate materials depending on project needs. Their duties include calculating quotes, meeting with clients and creating design plans for remodeling projects.', '', 'Artificial developers design, Machine learning is a subfield of artificial intelligence, which is broadly defined as the capability of a machine to imitate intelligent human behavior. Artificial intelligence systems are used to perform complex tasks in a way that is similar to how humans solve problems. They also help build software systems that power networks and devices and ensure that those systems remain functional.', '', 'The simplest way to understand how AI and ML relate to each other is AI is the broader concept of enabling a machine or system to sense, reason, act, or adapt like a human. ML is an application of AI that allows machines to extract knowledge from data and learn from it autonomously.', '', '1. : the top surface of a desk. also : an area or window on a computer screen in which icons are arranged in a manner analogous to objects on top of a desk. 2. : a desktop computer.']\n"
     ]
    }
   ],
   "source": [
    "data = load_data(r\"C:\\Users\\MORNING SHIFT\\Downloads\\sample.txt\")\n",
    "print(data[:50])"
   ]
  },
  {
   "cell_type": "code",
   "execution_count": 7,
   "metadata": {},
   "outputs": [
    {
     "name": "stderr",
     "output_type": "stream",
     "text": [
      "c:\\Users\\MORNING SHIFT\\AppData\\Local\\Programs\\Python\\Python312\\Lib\\site-packages\\tqdm\\auto.py:21: TqdmWarning: IProgress not found. Please update jupyter and ipywidgets. See https://ipywidgets.readthedocs.io/en/stable/user_install.html\n",
      "  from .autonotebook import tqdm as notebook_tqdm\n",
      "c:\\Users\\MORNING SHIFT\\AppData\\Local\\Programs\\Python\\Python312\\Lib\\site-packages\\transformers\\utils\\generic.py:441: UserWarning: torch.utils._pytree._register_pytree_node is deprecated. Please use torch.utils._pytree.register_pytree_node instead.\n",
      "  _torch_pytree._register_pytree_node(\n",
      "c:\\Users\\MORNING SHIFT\\AppData\\Local\\Programs\\Python\\Python312\\Lib\\site-packages\\transformers\\utils\\generic.py:309: UserWarning: torch.utils._pytree._register_pytree_node is deprecated. Please use torch.utils._pytree.register_pytree_node instead.\n",
      "  _torch_pytree._register_pytree_node(\n"
     ]
    },
    {
     "name": "stdout",
     "output_type": "stream",
     "text": [
      "machine learning subfield artificial intelligence broadly define capability machine imitat\n",
      "['machine learning subfield artificial intelligence broadly define capability machine imitate intelligent human behavior artificial intelligence system use perform complex task way similar human solve problem', '', 'carpenter responsible work wood build repair structure other item also select source appropriate material depend project need duty include calculate quote meet client create design plan remodeling project', '', 'artificial developer design learning subfield artificial intelligence broadly define capability machine imitate intelligent human behavior artificial intelligence system use perform complex task way similar human solve problem also help build software system power network device ensure system remain functional', '', 'simple way understand relate other broad concept enable machine system sense reason act adapt human application allow machine extract knowledge datum learn autonomously', '', 'top surface desk also area window computer screen icon arrange manner analogous object top desk desktop computer']\n"
     ]
    }
   ],
   "source": [
    "def lemmatization(texts, allowed_postags=[\"NOUN\", \"ADJ\", \"VERB\", \"ADV\"]):\n",
    "    nlp = spacy.load(\"en_core_web_sm\", disable=[\"parser\", \"ner\"])\n",
    "    texts_out = []\n",
    "    for text in texts:\n",
    "        doc = nlp(text)\n",
    "        new_text = []\n",
    "        for token in doc:\n",
    "            if token.pos_ in allowed_postags:\n",
    "                new_text.append(token.lemma_)\n",
    "        final = \" \".join(new_text)\n",
    "        texts_out.append(final)\n",
    "    return texts_out\n",
    "\n",
    "# Lemmatize the text data\n",
    "lemmatized_texts = lemmatization(data)\n",
    "print(lemmatized_texts[0][:90])\n",
    "print(lemmatized_texts)"
   ]
  },
  {
   "cell_type": "code",
   "execution_count": 8,
   "metadata": {},
   "outputs": [
    {
     "name": "stdout",
     "output_type": "stream",
     "text": [
      "[['machine', 'learning', 'subfield', 'artificial', 'intelligence', 'broadly', 'define', 'capability', 'machine', 'imitate', 'intelligent', 'human', 'behavior', 'artificial', 'intelligence', 'system', 'use', 'perform', 'complex', 'task', 'way', 'similar', 'human', 'solve', 'problem'], [], ['carpenter', 'responsible', 'work', 'wood', 'build', 'repair', 'structure', 'other', 'item', 'also', 'select', 'source', 'appropriate', 'material', 'depend', 'project', 'need', 'duty', 'include', 'calculate', 'quote', 'meet', 'client', 'create', 'design', 'plan', 'remodeling', 'project'], [], ['artificial', 'developer', 'design', 'learning', 'subfield', 'artificial', 'intelligence', 'broadly', 'define', 'capability', 'machine', 'imitate', 'intelligent', 'human', 'behavior', 'artificial', 'intelligence', 'system', 'use', 'perform', 'complex', 'task', 'way', 'similar', 'human', 'solve', 'problem', 'also', 'help', 'build', 'software', 'system', 'power', 'network', 'device', 'ensure', 'system', 'remain', 'functional'], [], ['simple', 'way', 'understand', 'relate', 'other', 'broad', 'concept', 'enable', 'machine', 'system', 'sense', 'reason', 'act', 'adapt', 'human', 'application', 'allow', 'machine', 'extract', 'knowledge', 'datum', 'learn', 'autonomously'], [], ['top', 'surface', 'desk', 'also', 'area', 'window', 'computer', 'screen', 'icon', 'arrange', 'manner', 'analogous', 'object', 'top', 'desk', 'desktop', 'computer']]\n"
     ]
    }
   ],
   "source": [
    "def gen_words(texts):\n",
    "    final = []\n",
    "    for text in texts:\n",
    "        new = gensim.utils.simple_preprocess(text, deacc=True)\n",
    "        final.append(new)\n",
    "    return final\n",
    "\n",
    "# Generate words\n",
    "data_words = gen_words(lemmatized_texts)\n",
    "#print(data_words[0][:20])\n",
    "print(data_words)"
   ]
  },
  {
   "cell_type": "code",
   "execution_count": 9,
   "metadata": {},
   "outputs": [
    {
     "name": "stdout",
     "output_type": "stream",
     "text": [
      "[[(0, 2), (1, 1), (2, 1), (3, 1), (4, 1), (5, 1), (6, 2), (7, 1), (8, 2), (9, 1), (10, 1), (11, 2), (12, 1), (13, 1), (14, 1), (15, 1), (16, 1), (17, 1), (18, 1), (19, 1), (20, 1)], [], [(21, 1), (22, 1), (23, 1), (24, 1), (25, 1), (26, 1), (27, 1), (28, 1), (29, 1), (30, 1), (31, 1), (32, 1), (33, 1), (34, 1), (35, 1), (36, 1), (37, 1), (38, 2), (39, 1), (40, 1), (41, 1), (42, 1), (43, 1), (44, 1), (45, 1), (46, 1), (47, 1)], [], [(0, 3), (1, 1), (2, 1), (3, 1), (4, 1), (5, 1), (6, 2), (7, 1), (8, 2), (9, 1), (10, 1), (11, 1), (12, 1), (13, 1), (14, 1), (15, 1), (16, 1), (17, 3), (18, 1), (19, 1), (20, 1), (21, 1), (23, 1), (29, 1), (48, 1), (49, 1), (50, 1), (51, 1), (52, 1), (53, 1), (54, 1), (55, 1), (56, 1)], [], [(6, 1), (11, 2), (17, 1), (20, 1), (36, 1), (57, 1), (58, 1), (59, 1), (60, 1), (61, 1), (62, 1), (63, 1), (64, 1), (65, 1), (66, 1), (67, 1), (68, 1), (69, 1), (70, 1), (71, 1), (72, 1), (73, 1)], [], [(21, 1), (74, 1), (75, 1), (76, 1), (77, 2), (78, 2), (79, 1), (80, 1), (81, 1), (82, 1), (83, 1), (84, 1), (85, 2), (86, 1)]]\n",
      "artificial\n"
     ]
    }
   ],
   "source": [
    "# Create a dictionary and corpus\n",
    "id2word = corpora.Dictionary(data_words)\n",
    "\n",
    "corpus = []\n",
    "for text in data_words:\n",
    "    new = id2word.doc2bow(text)\n",
    "    corpus.append(new)\n",
    "\n",
    "#print(corpus[0][:20])\n",
    "print(corpus)\n",
    "word = id2word[[0][:1][0]]\n",
    "print(word)"
   ]
  },
  {
   "cell_type": "code",
   "execution_count": 10,
   "metadata": {},
   "outputs": [],
   "source": [
    "# Build LDA model\n",
    "lda_model = gensim.models.ldamodel.LdaModel(corpus=corpus,\n",
    "                                           id2word=id2word,\n",
    "                                           num_topics=2,\n",
    "                                           random_state=100,\n",
    "                                           update_every=1,\n",
    "                                           chunksize=100,\n",
    "                                           passes=10,\n",
    "                                           alpha=\"auto\")"
   ]
  },
  {
   "cell_type": "code",
   "execution_count": 11,
   "metadata": {},
   "outputs": [
    {
     "data": {
      "text/html": [
       "\n",
       "<link rel=\"stylesheet\" type=\"text/css\" href=\"https://cdn.jsdelivr.net/gh/bmabey/pyLDAvis@3.4.0/pyLDAvis/js/ldavis.v1.0.0.css\">\n",
       "\n",
       "\n",
       "<div id=\"ldavis_el1425218446499843362094367034\" style=\"background-color:white;\"></div>\n",
       "<script type=\"text/javascript\">\n",
       "\n",
       "var ldavis_el1425218446499843362094367034_data = {\"mdsDat\": {\"x\": [-0.004971320328237245, 0.004971320328237245], \"y\": [-0.08773374771507102, 0.08773374771507102], \"topics\": [1, 2], \"cluster\": [1, 1], \"Freq\": [65.88699823115792, 34.113001768842075]}, \"tinfo\": {\"Term\": [\"top\", \"computer\", \"desk\", \"project\", \"also\", \"object\", \"manner\", \"analogous\", \"area\", \"screen\", \"arrange\", \"icon\", \"window\", \"surface\", \"desktop\", \"client\", \"repair\", \"material\", \"carpenter\", \"appropriate\", \"source\", \"select\", \"depend\", \"need\", \"include\", \"item\", \"calculate\", \"quote\", \"wood\", \"structure\", \"create\", \"plan\", \"responsible\", \"meet\", \"duty\", \"work\", \"remodeling\", \"human\", \"artificial\", \"machine\", \"system\", \"intelligence\", \"other\", \"design\", \"build\", \"way\", \"problem\", \"similar\", \"use\", \"solve\", \"human\", \"artificial\", \"machine\", \"system\", \"intelligence\", \"way\", \"problem\", \"similar\", \"use\", \"solve\", \"learning\", \"broadly\", \"capability\", \"task\", \"complex\", \"imitate\", \"subfield\", \"perform\", \"intelligent\", \"define\", \"behavior\", \"ensure\", \"developer\", \"software\", \"device\", \"help\", \"network\", \"functional\", \"power\", \"remain\", \"application\", \"datum\", \"adapt\", \"understand\", \"knowledge\", \"enable\", \"simple\", \"relate\", \"broad\", \"allow\", \"concept\", \"sense\", \"reason\", \"learn\", \"autonomously\", \"act\", \"extract\", \"build\", \"design\", \"other\", \"also\", \"top\", \"computer\", \"desk\", \"project\", \"object\", \"manner\", \"analogous\", \"area\", \"screen\", \"arrange\", \"icon\", \"window\", \"surface\", \"desktop\", \"client\", \"repair\", \"material\", \"carpenter\", \"appropriate\", \"source\", \"select\", \"depend\", \"need\", \"include\", \"item\", \"calculate\", \"quote\", \"wood\", \"structure\", \"create\", \"plan\", \"responsible\", \"meet\", \"duty\", \"work\", \"remodeling\", \"also\", \"other\", \"design\", \"build\", \"extract\", \"act\", \"autonomously\", \"learn\", \"reason\", \"sense\", \"concept\", \"allow\", \"broad\", \"relate\", \"system\", \"machine\", \"artificial\", \"human\", \"intelligence\", \"way\"], \"Freq\": [1.0, 1.0, 1.0, 1.0, 2.0, 1.0, 1.0, 1.0, 1.0, 1.0, 1.0, 1.0, 1.0, 1.0, 1.0, 1.0, 1.0, 1.0, 1.0, 1.0, 1.0, 1.0, 1.0, 1.0, 1.0, 1.0, 1.0, 1.0, 1.0, 1.0, 1.0, 1.0, 1.0, 1.0, 1.0, 1.0, 1.0, 3.0, 3.0, 3.0, 3.0, 3.0, 1.0, 1.0, 1.0, 2.0, 1.0, 1.0, 1.0, 1.0, 3.663617215360124, 3.6631043366253375, 3.65985405269143, 3.6581492087859058, 2.9988771283509124, 2.330911380770929, 1.6670899720008117, 1.667014805944924, 1.6669838647451942, 1.6669581074113877, 1.6669386679141753, 1.66688310335131, 1.6666844964881238, 1.6666397856445354, 1.6666397856445354, 1.6666196981640826, 1.6664951233861134, 1.6664308110495023, 1.6664069976654172, 1.6663836702687624, 1.6663130400955575, 0.9991985804976657, 0.9985924731741652, 0.9985253259108775, 0.9984913877886609, 0.9983404076936448, 0.9982752853779835, 0.9982627307027004, 0.998218100857017, 0.9979807769952161, 0.9973684328330267, 0.9971597822296139, 0.9967851669187506, 0.9967793350695869, 0.9966828665646705, 0.9965647716191055, 0.9964959233998116, 0.9964401968411363, 0.9962596525107764, 0.9960645285575073, 0.9957841138102189, 0.9956900752424541, 0.9956436634428596, 0.995611183282934, 0.9952673471759902, 0.9949849884789806, 0.9947399698161998, 1.0002634599553781, 0.9993352239634876, 0.9978257470049475, 0.9989279664968885, 1.266396603841759, 1.2663136530972054, 1.2660353613171969, 1.2659646560819506, 0.7600758271296798, 0.7600614009132357, 0.7599828954563075, 0.759974004881057, 0.7599199065693918, 0.7598991059782398, 0.7598218586215829, 0.7598034064842707, 0.7597755605315996, 0.7596529376918248, 0.7595059077067872, 0.7592844820590409, 0.759271901056328, 0.7592520230720416, 0.7592248481061818, 0.7591647109132144, 0.7591492782165533, 0.7591471813827678, 0.7591275550185358, 0.7590682565590825, 0.7590176809281768, 0.7589684472708937, 0.7589566211283437, 0.7589483176665531, 0.7589384206110857, 0.7589340591968119, 0.7588351725154888, 0.7588012876815156, 0.7587728546153845, 0.7587334341402175, 0.7586332054852717, 0.7584712460436814, 1.269797165001694, 0.7636952977368187, 0.7625500909965426, 0.7618456387179737, 0.2591029411141082, 0.2589170358306878, 0.2587028023228256, 0.2584419771682502, 0.2584173393712708, 0.2583821545003505, 0.25831065246826573, 0.25809805449075623, 0.2579499970571637, 0.2578130318742964, 0.2659758799911308, 0.2646819448304509, 0.2622158586153515, 0.2618268120747941, 0.2592650473340634, 0.25915011987428144], \"Total\": [1.0, 1.0, 1.0, 1.0, 2.0, 1.0, 1.0, 1.0, 1.0, 1.0, 1.0, 1.0, 1.0, 1.0, 1.0, 1.0, 1.0, 1.0, 1.0, 1.0, 1.0, 1.0, 1.0, 1.0, 1.0, 1.0, 1.0, 1.0, 1.0, 1.0, 1.0, 1.0, 1.0, 1.0, 1.0, 1.0, 1.0, 3.0, 3.0, 3.0, 3.0, 3.0, 1.0, 1.0, 1.0, 2.0, 1.0, 1.0, 1.0, 1.0, 3.925444027434918, 3.925320195240689, 3.9245359975218808, 3.9241250887770365, 3.2581421756849758, 2.5900615006452106, 1.9229812347423807, 1.9229630396604442, 1.9229555620307741, 1.9229493052511724, 1.9229446694004855, 1.9229311253866812, 1.9228833018410085, 1.9228725177680692, 1.9228725806730829, 1.922867674269237, 1.9228375828216413, 1.9228222105855832, 1.9228163460987018, 1.9228107369475342, 1.9227937647508997, 1.2549188883807048, 1.2547725538013457, 1.254756380567383, 1.2547481286590383, 1.2547116566570473, 1.2546959986503854, 1.2546929845688262, 1.2546821766521026, 1.2546249917808119, 1.254477159207119, 1.2544268195545099, 1.2543363461899166, 1.2543350225333918, 1.2543117544959264, 1.2542832572580147, 1.254266662136655, 1.2542532287154327, 1.2542096495679402, 1.2541625830482634, 1.2540947662784847, 1.2540722297428046, 1.2540610028141304, 1.2540531604511842, 1.2539701494988158, 1.2539020243096686, 1.253842910930308, 1.7621090986733519, 1.7618853149600302, 1.7615210447417662, 2.2687251314985826, 1.601699642236709, 1.6017258969176411, 1.601814606645421, 1.6018370085020317, 1.0945650593231009, 1.0945696271153915, 1.0945945762326903, 1.0945972278589098, 1.094614508951071, 1.0946210654023503, 1.0946456324123433, 1.0946513986486415, 1.0946603459943398, 1.0946992937256668, 1.0947460714779411, 1.0948164407831427, 1.094820504849918, 1.0948267891889634, 1.0948354962950413, 1.094854473805833, 1.0948594323317686, 1.0948601704246599, 1.0948663418931868, 1.0948852266615845, 1.0949012718075837, 1.0949168972227705, 1.0949207644243244, 1.0949233349312868, 1.0949264582890565, 1.0949278679755177, 1.0949591651770887, 1.0949701329330375, 1.0949790804000878, 1.0949915998315352, 1.095023458510252, 1.0950749892969014, 2.2687251314985826, 1.7615210447417662, 1.7618853149600302, 1.7621090986733519, 1.253842910930308, 1.2539020243096686, 1.2539701494988158, 1.2540531604511842, 1.2540610028141304, 1.2540722297428046, 1.2540947662784847, 1.2541625830482634, 1.2542096495679402, 1.2542532287154327, 3.9241250887770365, 3.9245359975218808, 3.925320195240689, 3.925444027434918, 3.2581421756849758, 2.5900615006452106], \"Category\": [\"Default\", \"Default\", \"Default\", \"Default\", \"Default\", \"Default\", \"Default\", \"Default\", \"Default\", \"Default\", \"Default\", \"Default\", \"Default\", \"Default\", \"Default\", \"Default\", \"Default\", \"Default\", \"Default\", \"Default\", \"Default\", \"Default\", \"Default\", \"Default\", \"Default\", \"Default\", \"Default\", \"Default\", \"Default\", \"Default\", \"Default\", \"Default\", \"Default\", \"Default\", \"Default\", \"Default\", \"Default\", \"Default\", \"Default\", \"Default\", \"Default\", \"Default\", \"Default\", \"Default\", \"Default\", \"Default\", \"Default\", \"Default\", \"Default\", \"Default\", \"Topic1\", \"Topic1\", \"Topic1\", \"Topic1\", \"Topic1\", \"Topic1\", \"Topic1\", \"Topic1\", \"Topic1\", \"Topic1\", \"Topic1\", \"Topic1\", \"Topic1\", \"Topic1\", \"Topic1\", \"Topic1\", \"Topic1\", \"Topic1\", \"Topic1\", \"Topic1\", \"Topic1\", \"Topic1\", \"Topic1\", \"Topic1\", \"Topic1\", \"Topic1\", \"Topic1\", \"Topic1\", \"Topic1\", \"Topic1\", \"Topic1\", \"Topic1\", \"Topic1\", \"Topic1\", \"Topic1\", \"Topic1\", \"Topic1\", \"Topic1\", \"Topic1\", \"Topic1\", \"Topic1\", \"Topic1\", \"Topic1\", \"Topic1\", \"Topic1\", \"Topic1\", \"Topic1\", \"Topic1\", \"Topic1\", \"Topic1\", \"Topic1\", \"Topic2\", \"Topic2\", \"Topic2\", \"Topic2\", \"Topic2\", \"Topic2\", \"Topic2\", \"Topic2\", \"Topic2\", \"Topic2\", \"Topic2\", \"Topic2\", \"Topic2\", \"Topic2\", \"Topic2\", \"Topic2\", \"Topic2\", \"Topic2\", \"Topic2\", \"Topic2\", \"Topic2\", \"Topic2\", \"Topic2\", \"Topic2\", \"Topic2\", \"Topic2\", \"Topic2\", \"Topic2\", \"Topic2\", \"Topic2\", \"Topic2\", \"Topic2\", \"Topic2\", \"Topic2\", \"Topic2\", \"Topic2\", \"Topic2\", \"Topic2\", \"Topic2\", \"Topic2\", \"Topic2\", \"Topic2\", \"Topic2\", \"Topic2\", \"Topic2\", \"Topic2\", \"Topic2\", \"Topic2\", \"Topic2\", \"Topic2\", \"Topic2\", \"Topic2\", \"Topic2\", \"Topic2\", \"Topic2\", \"Topic2\"], \"logprob\": [50.0, 49.0, 48.0, 47.0, 46.0, 45.0, 44.0, 43.0, 42.0, 41.0, 40.0, 39.0, 38.0, 37.0, 36.0, 35.0, 34.0, 33.0, 32.0, 31.0, 30.0, 29.0, 28.0, 27.0, 26.0, 25.0, 24.0, 23.0, 22.0, 21.0, 20.0, 19.0, 18.0, 17.0, 16.0, 15.0, 14.0, 13.0, 12.0, 11.0, 10.0, 9.0, 8.0, 7.0, 6.0, 5.0, 4.0, 3.0, 2.0, 1.0, -3.1671, -3.1673, -3.1681, -3.1686, -3.3673, -3.6193, -3.9545, -3.9545, -3.9546, -3.9546, -3.9546, -3.9546, -3.9547, -3.9548, -3.9548, -3.9548, -3.9549, -3.9549, -3.9549, -3.9549, -3.955, -4.4664, -4.467, -4.467, -4.4671, -4.4672, -4.4673, -4.4673, -4.4674, -4.4676, -4.4682, -4.4684, -4.4688, -4.4688, -4.4689, -4.469, -4.4691, -4.4691, -4.4693, -4.4695, -4.4698, -4.4699, -4.4699, -4.47, -4.4703, -4.4706, -4.4708, -4.4653, -4.4662, -4.4677, -4.4666, -3.5711, -3.5712, -3.5714, -3.5715, -4.0816, -4.0817, -4.0818, -4.0818, -4.0819, -4.0819, -4.082, -4.082, -4.082, -4.0822, -4.0824, -4.0827, -4.0827, -4.0827, -4.0828, -4.0828, -4.0829, -4.0829, -4.0829, -4.083, -4.083, -4.0831, -4.0831, -4.0831, -4.0831, -4.0832, -4.0833, -4.0833, -4.0834, -4.0834, -4.0835, -4.0838, -3.5685, -4.0769, -4.0784, -4.0793, -5.1578, -5.1586, -5.1594, -5.1604, -5.1605, -5.1606, -5.1609, -5.1617, -5.1623, -5.1628, -5.1317, -5.1365, -5.1459, -5.1474, -5.1572, -5.1577], \"loglift\": [50.0, 49.0, 48.0, 47.0, 46.0, 45.0, 44.0, 43.0, 42.0, 41.0, 40.0, 39.0, 38.0, 37.0, 36.0, 35.0, 34.0, 33.0, 32.0, 31.0, 30.0, 29.0, 28.0, 27.0, 26.0, 25.0, 24.0, 23.0, 22.0, 21.0, 20.0, 19.0, 18.0, 17.0, 16.0, 15.0, 14.0, 13.0, 12.0, 11.0, 10.0, 9.0, 8.0, 7.0, 6.0, 5.0, 4.0, 3.0, 2.0, 1.0, 0.3482, 0.3481, 0.3474, 0.347, 0.3343, 0.3118, 0.2744, 0.2744, 0.2744, 0.2744, 0.2744, 0.2743, 0.2742, 0.2742, 0.2742, 0.2742, 0.2741, 0.2741, 0.2741, 0.2741, 0.2741, 0.1894, 0.1889, 0.1888, 0.1888, 0.1887, 0.1886, 0.1886, 0.1886, 0.1884, 0.1879, 0.1877, 0.1874, 0.1874, 0.1873, 0.1872, 0.1872, 0.1871, 0.187, 0.1868, 0.1866, 0.1865, 0.1865, 0.1864, 0.1862, 0.1859, 0.1857, -0.149, -0.1498, -0.1511, -0.4031, 0.8406, 0.8405, 0.8402, 0.8402, 0.7108, 0.7108, 0.7106, 0.7106, 0.7105, 0.7105, 0.7104, 0.7104, 0.7103, 0.7101, 0.7099, 0.7095, 0.7095, 0.7095, 0.7094, 0.7093, 0.7093, 0.7093, 0.7093, 0.7092, 0.7091, 0.709, 0.709, 0.709, 0.709, 0.709, 0.7088, 0.7087, 0.7087, 0.7086, 0.7085, 0.7082, 0.4951, 0.2397, 0.238, 0.237, -0.5013, -0.502, -0.5029, -0.504, -0.5041, -0.5042, -0.5045, -0.5054, -0.506, -0.5066, -1.616, -1.621, -1.6305, -1.6321, -1.4556, -1.2265]}, \"token.table\": {\"Topic\": [1, 1, 1, 1, 2, 2, 1, 2, 2, 2, 1, 1, 1, 1, 1, 1, 2, 2, 1, 2, 2, 1, 2, 1, 2, 1, 1, 2, 1, 2, 2, 2, 1, 1, 2, 1, 1, 1, 1, 1, 1, 2, 1, 2, 1, 1, 2, 1, 1, 1, 1, 2, 2, 2, 2, 1, 2, 1, 2, 1, 2, 1, 1, 2, 2, 1, 1, 1, 2, 2, 2, 2, 2, 1, 1, 1, 1, 1, 2, 2, 1, 2, 1, 1, 2, 1, 1, 1, 2, 2, 2], \"Freq\": [0.7975104757890048, 0.7972343327509637, 0.7973447888785543, 0.4407761813523265, 0.4407761813523265, 0.9135802622389559, 0.7971448444960456, 0.9133792276410769, 0.9135780491204541, 0.9135581541475539, 1.0190251498081246, 0.7974671489585919, 1.0401531545735496, 0.7973148670515234, 1.0400788533691352, 0.5675017515957866, 0.5675017515957866, 0.9133113230204731, 1.0401047209080023, 0.9133864917032126, 0.9134538374273122, 1.0401105201156489, 0.6243265479595469, 0.7973879063122887, 0.913302171995096, 0.7971768336036807, 1.0401439733871072, 0.9133586434257931, 0.567573832138266, 0.567573832138266, 0.6242919722740178, 0.9134928703540403, 0.7969571831727513, 0.7969726968779861, 0.9132490150187913, 0.7972680765795258, 0.7968642509559789, 0.7975480750280229, 0.7970077240398765, 0.7969958633080045, 1.0189930036052, 0.9135376512636638, 1.040113174069597, 0.9133377413896623, 0.9207701316377622, 1.040140939127078, 0.913324356952376, 0.7972499631097475, 0.7974143613179997, 1.0400715277073147, 1.0192287706179204, 0.9136010859678076, 0.9133917345995303, 0.9132594566415059, 0.9133534950675817, 0.7970058094356328, 0.9136048985689516, 0.5676912024327232, 0.5676912024327232, 1.0401377667625926, 0.9132760670926656, 0.7970145895180587, 1.0400517508263347, 0.6242832414860714, 0.913308097253749, 0.7974093746284958, 0.7972871642707821, 0.7970509168485496, 0.9131794715191653, 0.9133951251998749, 0.9132669192732717, 0.9135636261191744, 0.9133592591610208, 0.7974022359183316, 1.0400615917990597, 0.7972786251820572, 0.7969674555851346, 1.0400690203004408, 0.9133633957067293, 0.9133033478454894, 1.0401294513211707, 0.9135253721935505, 1.01933549759664, 1.040110554141912, 0.6243367817723555, 0.7972351740448823, 1.0400656361959095, 0.7721824364022938, 0.9135328390705117, 0.9133059531174903, 0.9132224448967251], \"Term\": [\"act\", \"adapt\", \"allow\", \"also\", \"also\", \"analogous\", \"application\", \"appropriate\", \"area\", \"arrange\", \"artificial\", \"autonomously\", \"behavior\", \"broad\", \"broadly\", \"build\", \"build\", \"calculate\", \"capability\", \"carpenter\", \"client\", \"complex\", \"computer\", \"concept\", \"create\", \"datum\", \"define\", \"depend\", \"design\", \"design\", \"desk\", \"desktop\", \"developer\", \"device\", \"duty\", \"enable\", \"ensure\", \"extract\", \"functional\", \"help\", \"human\", \"icon\", \"imitate\", \"include\", \"intelligence\", \"intelligent\", \"item\", \"knowledge\", \"learn\", \"learning\", \"machine\", \"manner\", \"material\", \"meet\", \"need\", \"network\", \"object\", \"other\", \"other\", \"perform\", \"plan\", \"power\", \"problem\", \"project\", \"quote\", \"reason\", \"relate\", \"remain\", \"remodeling\", \"repair\", \"responsible\", \"screen\", \"select\", \"sense\", \"similar\", \"simple\", \"software\", \"solve\", \"source\", \"structure\", \"subfield\", \"surface\", \"system\", \"task\", \"top\", \"understand\", \"use\", \"way\", \"window\", \"wood\", \"work\"]}, \"R\": 50, \"lambda.step\": 0.01, \"plot.opts\": {\"xlab\": \"PC1\", \"ylab\": \"PC2\"}, \"topic.order\": [1, 2]};\n",
       "\n",
       "function LDAvis_load_lib(url, callback){\n",
       "  var s = document.createElement('script');\n",
       "  s.src = url;\n",
       "  s.async = true;\n",
       "  s.onreadystatechange = s.onload = callback;\n",
       "  s.onerror = function(){console.warn(\"failed to load library \" + url);};\n",
       "  document.getElementsByTagName(\"head\")[0].appendChild(s);\n",
       "}\n",
       "\n",
       "if(typeof(LDAvis) !== \"undefined\"){\n",
       "   // already loaded: just create the visualization\n",
       "   !function(LDAvis){\n",
       "       new LDAvis(\"#\" + \"ldavis_el1425218446499843362094367034\", ldavis_el1425218446499843362094367034_data);\n",
       "   }(LDAvis);\n",
       "}else if(typeof define === \"function\" && define.amd){\n",
       "   // require.js is available: use it to load d3/LDAvis\n",
       "   require.config({paths: {d3: \"https://d3js.org/d3.v5\"}});\n",
       "   require([\"d3\"], function(d3){\n",
       "      window.d3 = d3;\n",
       "      LDAvis_load_lib(\"https://cdn.jsdelivr.net/gh/bmabey/pyLDAvis@3.4.0/pyLDAvis/js/ldavis.v3.0.0.js\", function(){\n",
       "        new LDAvis(\"#\" + \"ldavis_el1425218446499843362094367034\", ldavis_el1425218446499843362094367034_data);\n",
       "      });\n",
       "    });\n",
       "}else{\n",
       "    // require.js not available: dynamically load d3 & LDAvis\n",
       "    LDAvis_load_lib(\"https://d3js.org/d3.v5.js\", function(){\n",
       "         LDAvis_load_lib(\"https://cdn.jsdelivr.net/gh/bmabey/pyLDAvis@3.4.0/pyLDAvis/js/ldavis.v3.0.0.js\", function(){\n",
       "                 new LDAvis(\"#\" + \"ldavis_el1425218446499843362094367034\", ldavis_el1425218446499843362094367034_data);\n",
       "            })\n",
       "         });\n",
       "}\n",
       "</script>"
      ],
      "text/plain": [
       "PreparedData(topic_coordinates=              x         y  topics  cluster       Freq\n",
       "topic                                                \n",
       "0     -0.004971 -0.087734       1        1  65.886998\n",
       "1      0.004971  0.087734       2        1  34.113002, topic_info=            Term      Freq     Total Category  logprob  loglift\n",
       "85           top  1.000000  1.000000  Default  50.0000  50.0000\n",
       "77      computer  1.000000  1.000000  Default  49.0000  49.0000\n",
       "78          desk  1.000000  1.000000  Default  48.0000  48.0000\n",
       "38       project  1.000000  1.000000  Default  47.0000  47.0000\n",
       "21          also  2.000000  2.000000  Default  46.0000  46.0000\n",
       "..           ...       ...       ...      ...      ...      ...\n",
       "11       machine  0.264682  3.924536   Topic2  -5.1365  -1.6210\n",
       "0     artificial  0.262216  3.925320   Topic2  -5.1459  -1.6305\n",
       "6          human  0.261827  3.925444   Topic2  -5.1474  -1.6321\n",
       "8   intelligence  0.259265  3.258142   Topic2  -5.1572  -1.4556\n",
       "20           way  0.259150  2.590062   Topic2  -5.1577  -1.2265\n",
       "\n",
       "[157 rows x 6 columns], token_table=      Topic      Freq    Term\n",
       "term                         \n",
       "57        1  0.797510     act\n",
       "58        1  0.797234   adapt\n",
       "59        1  0.797345   allow\n",
       "21        1  0.440776    also\n",
       "21        2  0.440776    also\n",
       "...     ...       ...     ...\n",
       "19        1  1.040066     use\n",
       "20        1  0.772182     way\n",
       "86        2  0.913533  window\n",
       "46        2  0.913306    wood\n",
       "47        2  0.913222    work\n",
       "\n",
       "[91 rows x 3 columns], R=50, lambda_step=0.01, plot_opts={'xlab': 'PC1', 'ylab': 'PC2'}, topic_order=[1, 2])"
      ]
     },
     "execution_count": 11,
     "metadata": {},
     "output_type": "execute_result"
    }
   ],
   "source": [
    "# Visualize the data\n",
    "pyLDAvis.enable_notebook()\n",
    "vis = pyLDAvis.gensim.prepare(lda_model, corpus, id2word, mds=\"mmds\", R=50)\n",
    "vis"
   ]
  },
  {
   "cell_type": "code",
   "execution_count": null,
   "metadata": {},
   "outputs": [],
   "source": []
  }
 ],
 "metadata": {
  "kernelspec": {
   "display_name": "Python 3",
   "language": "python",
   "name": "python3"
  },
  "language_info": {
   "codemirror_mode": {
    "name": "ipython",
    "version": 3
   },
   "file_extension": ".py",
   "mimetype": "text/x-python",
   "name": "python",
   "nbconvert_exporter": "python",
   "pygments_lexer": "ipython3",
   "version": "3.12.4"
  }
 },
 "nbformat": 4,
 "nbformat_minor": 2
}
